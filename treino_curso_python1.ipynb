{
 "cells": [
  {
   "cell_type": "code",
   "execution_count": 24,
   "metadata": {},
   "outputs": [
    {
     "name": "stdout",
     "output_type": "stream",
     "text": [
      "Robert Vencedor\n",
      "VENCEDOR\n",
      "ROBERT VENCEDOR\n"
     ]
    }
   ],
   "source": [
    "a = \"Robert\"\n",
    "b = \"Vencedor\"\n",
    "nome_completo = a + \" \" + b\n",
    "print(nome_completo)\n",
    "\n",
    "#print(a[0])\n",
    "#print(b[0])\n",
    "#print(a[4])\n",
    "\n",
    "#print(nome_completo[0:11])\n",
    "\n",
    "print(nome_completo[7:16].upper())\n",
    "print(nome_completo.upper())"
   ]
  },
  {
   "cell_type": "code",
   "execution_count": 36,
   "metadata": {},
   "outputs": [
    {
     "name": "stdout",
     "output_type": "stream",
     "text": [
      "um rato roeu a roupa do rei de Roma\n",
      "['um ', 'ato ', 'oeu a ', 'oupa do ', 'ei de Roma']\n",
      "15\n",
      "roupa do rei de Roma\n",
      "um rato roeu a roupa da rainha de Roma\n"
     ]
    }
   ],
   "source": [
    "minha_string = \"um rato roeu a roupa do rei de Roma\"\n",
    "print(minha_string)\n",
    "\n",
    "#metodo .split() transforma a variável em uma lista e exclui o item entre \"\" da lista\n",
    "minha_lista = minha_string.split(\"r\")\n",
    "print(minha_lista)\n",
    "\n",
    "#metodo .find() encontra caracter em uma variável\n",
    "busca = minha_string.find(\"roupa\")\n",
    "print(busca)\n",
    "\n",
    "#abaixo o metodo find() junto [] conta a quantidade de carcter tendo como inicio o cacter declarado para o inicio da busca\n",
    "print(minha_string[busca:])\n",
    "\n",
    "#metodo .replace() troca palavra por outra\n",
    "minha_string = minha_string.replace(\"do rei\",\"da rainha\")\n",
    "print(minha_string)"
   ]
  },
  {
   "cell_type": "code",
   "execution_count": 42,
   "metadata": {},
   "outputs": [
    {
     "name": "stdout",
     "output_type": "stream",
     "text": [
      "20\n",
      "40\n",
      "50\n",
      "10\n",
      "60\n",
      "500\n",
      "560\n"
     ]
    }
   ],
   "source": [
    "#funções\n",
    "#funções sempre devem estar declaradas na parte de cima do código\n",
    "\n",
    "def soma (x, y):\n",
    "    print(x)\n",
    "    print(y)\n",
    "    return(x + y)\n",
    "\n",
    "def multiplicacao(a , b):\n",
    "    print(a)\n",
    "    print(b)\n",
    "    return (a * b)\n",
    "\n",
    "s = soma (20 , 40)\n",
    "m = multiplicacao (50 , 10 )\n",
    "print(soma(s, m))"
   ]
  },
  {
   "cell_type": "code",
   "execution_count": 59,
   "metadata": {},
   "outputs": [
    {
     "ename": "IndentationError",
     "evalue": "expected an indented block (<ipython-input-59-da3a90b25998>, line 24)",
     "output_type": "error",
     "traceback": [
      "\u001b[1;36m  File \u001b[1;32m\"<ipython-input-59-da3a90b25998>\"\u001b[1;36m, line \u001b[1;32m24\u001b[0m\n\u001b[1;33m    W = open(\"arquivo2.txt\", \"a\")\u001b[0m\n\u001b[1;37m    ^\u001b[0m\n\u001b[1;31mIndentationError\u001b[0m\u001b[1;31m:\u001b[0m expected an indented block\n"
     ]
    }
   ],
   "source": [
    "#lendo arquivos\n",
    "#r somente leitura\n",
    "#w escrita (caso o arquivo já exista, ele será apagado e um novo arquivo vazio será criado)\n",
    "#a leitura e escrita (adiciona o novo conteúdo ao fim do arquivo)\n",
    "#r+ leitura e escrita\n",
    "#w+ escrita (esse modo assim como o w também apago o conteúdo anterior do arquivo)\n",
    "#a+ leitura e escrita (abre o arquivo para atuação)\n",
    "\n",
    "arquivo = open(\"arquivo.txt\")\n",
    "print(arquivo)\n",
    "\n",
    "#read line (le apenas as linhas)\n",
    "linhas = arquivo.readlines()\n",
    "#print(linhas)\n",
    "\n",
    "#imprimir linha por linha\n",
    "for linha in linhas:\n",
    "    #print(linhas)\n",
    "    \n",
    "#imprime tudo\n",
    "#texto_completo = arquivo.read()\n",
    "#print(texto_completo)\n",
    "\n",
    "W = open(\"arquivo2.txt\", \"a\")\n"
   ]
  },
  {
   "cell_type": "code",
   "execution_count": 79,
   "metadata": {},
   "outputs": [
    {
     "name": "stdout",
     "output_type": "stream",
     "text": [
      "abacaxi\n",
      "cenoura\n",
      "4\n",
      "batata\n",
      "mandioca\n",
      "3\n",
      "['abacaxi', 'melancia', 'abacate', 'maracuja']\n",
      "cenoura esta na lista\n",
      "['rosa', 'cravo']\n",
      "[55, 66, 88, 99, 100, 44, 78, 56, 1000, 400]\n",
      "[400, 1000, 56, 78, 44, 100, 99, 88, 66, 55]\n",
      "['abacate', 'abacaxi', 'maracuja', 'melancia']\n"
     ]
    }
   ],
   "source": [
    "#lista\n",
    "\n",
    "minha_listafrutas =  [\"abacaxi\", \"melancia\", \"abacate\" ]\n",
    "minha_listalegumes = [\"cenoura\",4, \"batata\", \"mandioca\"]\n",
    "minha_listaflores = [\"rosa\", \"cravo\", \"margarida\"]\n",
    "\n",
    "#lista em branco\n",
    "minha_lista_4 = []\n",
    "\n",
    "print(minha_listafrutas[0])\n",
    "\n",
    "for item in minha_listalegumes:\n",
    "    print(item)\n",
    "\n",
    "\n",
    "#comando len retorna o tamanho da lista declarada\n",
    "tamanho = len(minha_listaflores)\n",
    "print(tamanho)\n",
    "\n",
    "#comando append adiciona itens a lista\n",
    "minha_listafrutas.append(\"maracuja\")\n",
    "\n",
    "print(minha_listafrutas)\n",
    "\n",
    "#conferindo se determinado item está na lista\n",
    "if \"cenoura\" in minha_listalegumes:\n",
    "    print(\"cenoura esta na lista\")\n",
    "    \n",
    "#comando del remove item da lista ou lista interia\n",
    "# del minha_litaflores[:] ( apaga tudo)\n",
    "del minha_listaflores[2:]\n",
    "print(minha_listaflores)\n",
    "\n",
    "#ordenando listas\n",
    "\n",
    "lista_ordenada = [55,66,88,99,100,44,78,56,1000,400]\n",
    "\n",
    "lista.sort()\n",
    "print(lista_ordenada)\n",
    "\n",
    "lista_ordenada.reverse()\n",
    "print(lista_ordenada)\n",
    "\n",
    "minha_listafrutas.sort()\n",
    "print(minha_listafrutas)"
   ]
  },
  {
   "cell_type": "code",
   "execution_count": 91,
   "metadata": {},
   "outputs": [
    {
     "name": "stdout",
     "output_type": "stream",
     "text": [
      "AMEIXA\n",
      "A\n",
      "A-AMEIXA\n",
      "B\n",
      "B-BOLA\n",
      "C\n",
      "C-CACHORRO\n",
      "('A', 'AMEIXA')\n",
      "('B', 'BOLA')\n",
      "('C', 'CACHORRO')\n",
      "AMEIXA\n",
      "BOLA\n",
      "CACHORRO\n"
     ]
    }
   ],
   "source": [
    "#dicionários\n",
    "\n",
    "meu_dicionario = {\"A\":\"AMEIXA\", \"B\":\"BOLA\", \"C\":\"CACHORRO\"}\n",
    "print(meu_dicionario[\"A\"])\n",
    "\n",
    "for chave in meu_dicionario:\n",
    "    print(chave)\n",
    "    print(chave+\"-\"+meu_dicionario[chave])\n",
    "    \n",
    "#usando funções no dicionário\n",
    "\n",
    "#.items separa por tuplas ( conjunto de dados imutáveis)\n",
    "for i in meu_dicionario.items():\n",
    "    print(i)\n",
    "#.values retorna apenas os valores\n",
    "for i in meu_dicionario.values():\n",
    "    print(i)\n"
   ]
  },
  {
   "cell_type": "code",
   "execution_count": 100,
   "metadata": {},
   "outputs": [
    {
     "name": "stdout",
     "output_type": "stream",
     "text": [
      "1\n",
      "2\n"
     ]
    }
   ],
   "source": [
    "#números aleatórios\n",
    "\n",
    "import random\n",
    "\n",
    "#.random.randint chama um número aletaório\n",
    "numero = random.randint(0, 10)\n",
    "print(numero)\n",
    "\n",
    "#random.choice seleciona um número de uma lista \n",
    "lista_4 = [1,2,3,4]\n",
    "numero = random.choice(lista_4)\n",
    "print(numero)\n"
   ]
  },
  {
   "cell_type": "code",
   "execution_count": 103,
   "metadata": {},
   "outputs": [
    {
     "name": "stdout",
     "output_type": "stream",
     "text": [
      "Não é possivel dividir por zero\n"
     ]
    }
   ],
   "source": [
    "#tratamento de exceções\n",
    "\n",
    "r = 2\n",
    "w = 0\n",
    "\n",
    "try:\n",
    "    print(r/w)\n",
    "    \n",
    "except:\n",
    "    print(\"Não é possivel dividir por zero\")"
   ]
  },
  {
   "cell_type": "code",
   "execution_count": 112,
   "metadata": {},
   "outputs": [
    {
     "name": "stdout",
     "output_type": "stream",
     "text": [
      "usando list comprehension\n",
      "[1, 2, 3, 4, 5]\n",
      "[1, 4, 9, 16, 25]\n"
     ]
    }
   ],
   "source": [
    "#lista comprehension\n",
    "\n",
    "#x = [1, 2, 3, 4, 5]\n",
    "#y = []\n",
    "\n",
    "#for i in x:\n",
    "    #y.append(1**2)\n",
    "\n",
    "#print(x)\n",
    "#print(y)\n",
    "\n",
    "x = [1, 2, 3, 4, 5]\n",
    "y = [i**2 for i in x]\n",
    "# não deu certo z = [i for i in x if 1%2==1]\n",
    "\n",
    "print(\"usando list comprehension\")\n",
    "print(x)\n",
    "print(y)\n",
    "#print(z)\n",
    "\n",
    "\n"
   ]
  },
  {
   "cell_type": "code",
   "execution_count": 117,
   "metadata": {},
   "outputs": [
    {
     "name": "stdout",
     "output_type": "stream",
     "text": [
      "0 abacate\n",
      "1 bola\n",
      "2 cachorro\n",
      "0 abacate\n",
      "1 bola\n",
      "2 cachorro\n"
     ]
    }
   ],
   "source": [
    "#função enumerate\n",
    "\n",
    "lista = [ \"abacate\", \"bola\", \"cachorro\"]\n",
    "\n",
    "#range cria um vetor e len ver o tamanho\n",
    "for i in range(len(lista)):\n",
    "    print(i, lista[i])\n",
    "    \n",
    "lista_dois = [\"abacate\", \"bola\", \"cachorro\"] \n",
    "\n",
    "for i, nome in enumerate(lista):\n",
    "    print(i, nome)"
   ]
  },
  {
   "cell_type": "code",
   "execution_count": 119,
   "metadata": {},
   "outputs": [
    {
     "name": "stdout",
     "output_type": "stream",
     "text": [
      "[2, 4, 6, 8, 10]\n"
     ]
    }
   ],
   "source": [
    "#função map\n",
    "\n",
    "def dobro(x):\n",
    "    return x*2\n",
    "\n",
    "valor = [1, 2, 3, 4, 5]\n",
    "\n",
    "valor_dobrado = map(dobro, valor)\n",
    "\n",
    "valor_dobrado = list(valor_dobrado)\n",
    "print(valor_dobrado)"
   ]
  },
  {
   "cell_type": "code",
   "execution_count": 121,
   "metadata": {},
   "outputs": [
    {
     "name": "stdout",
     "output_type": "stream",
     "text": [
      "109\n"
     ]
    }
   ],
   "source": [
    "#função reduce\n",
    "\n",
    "from functools import reduce #comando para importar função reduce\n",
    "\n",
    "def soma (x , y):\n",
    "    return x+y\n",
    "\n",
    "lista = [1, 3, 7, 8, 90]\n",
    "\n",
    "soma = reduce(soma, lista)\n",
    "print(soma)\n"
   ]
  },
  {
   "cell_type": "code",
   "execution_count": 129,
   "metadata": {},
   "outputs": [
    {
     "name": "stdout",
     "output_type": "stream",
     "text": [
      "1 acabete\n",
      "2 bola\n",
      "3 cachorro\n",
      "4 dinheiro\n",
      "5 elefante\n"
     ]
    }
   ],
   "source": [
    "#função zip\n",
    "\n",
    "lista1 =  [1, 2, 3, 4, 5]\n",
    "lista2 = [\"acabete\", \"bola\", \"cachorro\", \"dinheiro\", \"elefante\"]\n",
    "\n",
    "for numero, nome in zip(lista1,lista2):\n",
    "    print(numero, nome)"
   ]
  },
  {
   "cell_type": "code",
   "execution_count": 136,
   "metadata": {
    "scrolled": true
   },
   "outputs": [
    {
     "name": "stdout",
     "output_type": "stream",
     "text": [
      "5 moedas\n"
     ]
    }
   ],
   "source": [
    "def dpMakeChange(coinValueList,change,minCoins):\n",
    "\n",
    "   for cents in range(change+1):\n",
    "\n",
    "      coinCount = cents\n",
    "\n",
    "      for j in [c for c in coinValueList if c <= cents]:\n",
    "\n",
    "            if minCoins[cents-j] + 1 < coinCount:\n",
    "\n",
    "               coinCount = minCoins[cents-j]+1\n",
    "\n",
    "      minCoins[cents] = coinCount\n",
    "\n",
    "   return minCoins[change]\n",
    "\n",
    "\n",
    "def main():\n",
    "\n",
    "    amnt = 72\n",
    "\n",
    "    clist = [1,5,10,25,50]\n",
    "\n",
    "    coinCount = [0]*(amnt+1)\n",
    "\n",
    "    print(dpMakeChange(clist,amnt,coinCount),\"moedas\")\n",
    "\n",
    "\n",
    "\n",
    "main()\n"
   ]
  },
  {
   "cell_type": "code",
   "execution_count": 138,
   "metadata": {
    "scrolled": true
   },
   "outputs": [
    {
     "data": {
      "text/plain": [
       "0.8"
      ]
     },
     "execution_count": 138,
     "metadata": {},
     "output_type": "execute_result"
    }
   ],
   "source": [
    "100.0 / 2.0 // 3 // 4 / 5.0"
   ]
  },
  {
   "cell_type": "code",
   "execution_count": 142,
   "metadata": {},
   "outputs": [
    {
     "name": "stdout",
     "output_type": "stream",
     "text": [
      "[[ 2  3  4]\n",
      " [ 5  6  7]\n",
      " [ 8  9 10]]\n"
     ]
    }
   ],
   "source": [
    "import numpy as np\n",
    "\n",
    "\n",
    "x = np.arange(2, 11).reshape(3,3)\n",
    "\n",
    "print(x)"
   ]
  }
 ],
 "metadata": {
  "kernelspec": {
   "display_name": "Python 3",
   "language": "python",
   "name": "python3"
  },
  "language_info": {
   "codemirror_mode": {
    "name": "ipython",
    "version": 3
   },
   "file_extension": ".py",
   "mimetype": "text/x-python",
   "name": "python",
   "nbconvert_exporter": "python",
   "pygments_lexer": "ipython3",
   "version": "3.8.5"
  }
 },
 "nbformat": 4,
 "nbformat_minor": 4
}
